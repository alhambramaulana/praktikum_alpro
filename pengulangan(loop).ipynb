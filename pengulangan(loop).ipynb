{
  "nbformat": 4,
  "nbformat_minor": 0,
  "metadata": {
    "colab": {
      "provenance": [],
      "authorship_tag": "ABX9TyO81DGFaZPHah00DCUzbdM3",
      "include_colab_link": true
    },
    "kernelspec": {
      "name": "python3",
      "display_name": "Python 3"
    },
    "language_info": {
      "name": "python"
    }
  },
  "cells": [
    {
      "cell_type": "markdown",
      "metadata": {
        "id": "view-in-github",
        "colab_type": "text"
      },
      "source": [
        "<a href=\"https://colab.research.google.com/github/alhambramaulana/praktikum_alpro/blob/main/pengulangan(loop).ipynb\" target=\"_parent\"><img src=\"https://colab.research.google.com/assets/colab-badge.svg\" alt=\"Open In Colab\"/></a>"
      ]
    },
    {
      "cell_type": "markdown",
      "source": [
        "**PENGULANGAN (LOOP)**"
      ],
      "metadata": {
        "id": "VfOy0maFZ9PD"
      }
    },
    {
      "cell_type": "markdown",
      "source": [
        "Kegunaan pengulangan adalah untuk mempercepat dan mempermudah suatu perhitungan dari jumlah data yang sangat banyak.\n",
        "<br>Python memiliki dua perintah perulangan primitive, yaitu Perulangan While dan Perulangan For."
      ],
      "metadata": {
        "id": "z1rQPdTQaDeE"
      }
    },
    {
      "cell_type": "markdown",
      "source": [
        "**Perulangan While**"
      ],
      "metadata": {
        "id": "n90i8Y_FeoRF"
      }
    },
    {
      "cell_type": "markdown",
      "source": [
        "Perulangan While dapat mengeksekusi satu set pernyataan selama kondisinya benar."
      ],
      "metadata": {
        "id": "WXQUnQ6la9kK"
      }
    },
    {
      "cell_type": "code",
      "execution_count": 1,
      "metadata": {
        "colab": {
          "base_uri": "https://localhost:8080/"
        },
        "id": "bhkJZRs2Z8cW",
        "outputId": "d5d3621d-5d78-459f-9517-503cf98b79e1"
      },
      "outputs": [
        {
          "output_type": "stream",
          "name": "stdout",
          "text": [
            "1\n",
            "2\n",
            "3\n",
            "4\n",
            "5\n"
          ]
        }
      ],
      "source": [
        "#Contoh cetak i selama i kurang dari 6:\n",
        "i = 1\n",
        "while i < 6:\n",
        "  print(i)\n",
        "  i += 1"
      ]
    },
    {
      "cell_type": "markdown",
      "source": [
        "**Note:** Ingat untuk menambah i, atau loop akan berjalan selamanya."
      ],
      "metadata": {
        "id": "5Zxtokd6bYbU"
      }
    },
    {
      "cell_type": "markdown",
      "source": [
        "**Pernyataan Break**\n",
        "<br>Pernyataan break dapat menghentikan perulangan meskipun kondisi while benar."
      ],
      "metadata": {
        "id": "K-HHz8TAbq0n"
      }
    },
    {
      "cell_type": "code",
      "source": [
        "#Contoh keluar dari loop ketika i adalah 3:\n",
        "i = 1\n",
        "while i < 6:\n",
        "  print(i)\n",
        "  if i == 3:\n",
        "    break\n",
        "  i += 1"
      ],
      "metadata": {
        "colab": {
          "base_uri": "https://localhost:8080/"
        },
        "id": "9Y3KhpmNcH2D",
        "outputId": "341649cc-f914-4a88-b018-9a8482814684"
      },
      "execution_count": 2,
      "outputs": [
        {
          "output_type": "stream",
          "name": "stdout",
          "text": [
            "1\n",
            "2\n",
            "3\n"
          ]
        }
      ]
    },
    {
      "cell_type": "markdown",
      "source": [
        "**Pernyataan Continue**\n",
        "<br>Pernyataan Continue dapat menghentikan iterasi saat ini, dan melanjutkan dengan yang berikutnya."
      ],
      "metadata": {
        "id": "4d7rhQxAc-rB"
      }
    },
    {
      "cell_type": "code",
      "source": [
        "#Contoh Continue ke iterasi berikutnya jika i adalah 3:\n",
        "i = 0\n",
        "while i < 6:\n",
        "  i += 1\n",
        "  if i == 3:\n",
        "    continue\n",
        "  print(i)"
      ],
      "metadata": {
        "colab": {
          "base_uri": "https://localhost:8080/"
        },
        "id": "ZakuLrvsdack",
        "outputId": "698d997a-43cd-48c5-91a7-d831aba47098"
      },
      "execution_count": 3,
      "outputs": [
        {
          "output_type": "stream",
          "name": "stdout",
          "text": [
            "1\n",
            "2\n",
            "4\n",
            "5\n",
            "6\n"
          ]
        }
      ]
    },
    {
      "cell_type": "markdown",
      "source": [
        "**Pernyataan Else**\n",
        "<br>Dapat menjalankan blok kode blok kode satu kali ketika kondisinya tidak lagi benar."
      ],
      "metadata": {
        "id": "EOoDZ6dGdxqO"
      }
    },
    {
      "cell_type": "code",
      "source": [
        "#Contoh cetak pesan setelah kondisinya salah:\n",
        "i = 1\n",
        "while i < 6:\n",
        "  print(i)\n",
        "  i += 1\n",
        "else:\n",
        "  print(\"i tidak lebih kecil dari 6\")"
      ],
      "metadata": {
        "colab": {
          "base_uri": "https://localhost:8080/"
        },
        "id": "FfDdAaDoe-sz",
        "outputId": "c6a10545-86a0-4d54-fed1-d2d25580f979"
      },
      "execution_count": 4,
      "outputs": [
        {
          "output_type": "stream",
          "name": "stdout",
          "text": [
            "1\n",
            "2\n",
            "3\n",
            "4\n",
            "5\n",
            "i tidak lebih kecil dari 6\n"
          ]
        }
      ]
    },
    {
      "cell_type": "markdown",
      "source": [
        "**Perulangan For**"
      ],
      "metadata": {
        "id": "g-B0LaT9fMg4"
      }
    },
    {
      "cell_type": "markdown",
      "source": [
        "Digunakan untuk mengulangi urutan (yaitu *list*, *tuple*, *dictionary*, *set*, atau *string*) bekerja lebih seperti metode iteraror (iterasi).<br> Perulangan for dapat mengeksekusi satu *set* pernyataan, sekali untuk setiap item dalam *list, tuple, set,* dll."
      ],
      "metadata": {
        "id": "fYlxcvVRfQsX"
      }
    },
    {
      "cell_type": "code",
      "source": [
        "#Contoh cetak setiap topik dalam daftar topik:\n",
        "topik = [\"Kinematika\", \"Mekanika\", \"Termodinamika\"]\n",
        "for x in topik:\n",
        "  print(x)"
      ],
      "metadata": {
        "colab": {
          "base_uri": "https://localhost:8080/"
        },
        "id": "5yFwym6Ega-Z",
        "outputId": "2600566a-f1b3-43ef-e6f3-39eae6825a35"
      },
      "execution_count": 5,
      "outputs": [
        {
          "output_type": "stream",
          "name": "stdout",
          "text": [
            "Kinematika\n",
            "Mekanika\n",
            "Termodinamika\n"
          ]
        }
      ]
    },
    {
      "cell_type": "markdown",
      "source": [
        "Perulangan for tidak memerlukan variabel pengindeksan untuk disetel sebelumnya."
      ],
      "metadata": {
        "id": "u2JwN47Lgwec"
      }
    },
    {
      "cell_type": "markdown",
      "source": [
        "**Perulangan Melalui String**<br>\n",
        "Bahkan *string* adalah objek yang dapat diubah, berisi urutan karakter."
      ],
      "metadata": {
        "id": "VKPDvQ5AhAHT"
      }
    },
    {
      "cell_type": "code",
      "source": [
        "#Contoh cetak setiap karakter dalam variabel Kinematika:\n",
        "for x in \"Kinematika\":\n",
        "  print(x)"
      ],
      "metadata": {
        "colab": {
          "base_uri": "https://localhost:8080/"
        },
        "id": "8kvVVcwQhUUL",
        "outputId": "ffd06e59-62f7-47e3-d0c0-433e21c0564e"
      },
      "execution_count": 6,
      "outputs": [
        {
          "output_type": "stream",
          "name": "stdout",
          "text": [
            "K\n",
            "i\n",
            "n\n",
            "e\n",
            "m\n",
            "a\n",
            "t\n",
            "i\n",
            "k\n",
            "a\n"
          ]
        }
      ]
    },
    {
      "cell_type": "markdown",
      "source": [
        "**Perulangan Break**<br>\n",
        "Pernyataaan *break* dapat menghentikan loop, sehingga loop tidak lanjut pada item berikutnya."
      ],
      "metadata": {
        "id": "N6BwtnHYhkB9"
      }
    },
    {
      "cell_type": "code",
      "source": [
        "#Contoh keluar/berhenti dari loop ketika x adalah \"Mekanika\":\n",
        "topik = [\"Kinematika\", \"Mekanika\", \"Termodinamika\"]\n",
        "for x in topik:\n",
        "  print(x)\n",
        "  if x == \"Mekanika\":\n",
        "    break"
      ],
      "metadata": {
        "colab": {
          "base_uri": "https://localhost:8080/"
        },
        "id": "30YV6vYzh65a",
        "outputId": "ab458fbe-4e51-4323-e49f-ce24c6c81bbb"
      },
      "execution_count": 7,
      "outputs": [
        {
          "output_type": "stream",
          "name": "stdout",
          "text": [
            "Kinematika\n",
            "Mekanika\n"
          ]
        }
      ]
    },
    {
      "cell_type": "code",
      "source": [
        "#Contoh keluar dari loop ketika x adalah \"Mekanika\", jika break muncul sebelum cetakan print:\n",
        "topik = [\"Kinematika\", \"Mekanika\", \"Termodinamika\"]\n",
        "for x in topik:\n",
        "  if x == \"Mekanika\":\n",
        "    break\n",
        "  print(x)"
      ],
      "metadata": {
        "colab": {
          "base_uri": "https://localhost:8080/"
        },
        "id": "RoQ4IftviMNZ",
        "outputId": "b9fd3621-5a55-4b7e-c5d0-18a2ad834745"
      },
      "execution_count": 8,
      "outputs": [
        {
          "output_type": "stream",
          "name": "stdout",
          "text": [
            "Kinematika\n"
          ]
        }
      ]
    },
    {
      "cell_type": "markdown",
      "source": [
        "**Pernyataan Continue**<br>\n",
        "Pernyataan Continue dapat menghentiakn iterasi loop saat ini, dan melanjutkan dengan yang berikutnya."
      ],
      "metadata": {
        "id": "h435c1h1ij1P"
      }
    },
    {
      "cell_type": "code",
      "source": [
        "#Contoh jangan mencetak \"Mekanika\":\n",
        "topik = [\"Kinematika\", \"Mekanika\", \"Termodinamika\"]\n",
        "for x in topik:\n",
        "  if x == \"Mekanika\":\n",
        "    continue\n",
        "  print(x)"
      ],
      "metadata": {
        "colab": {
          "base_uri": "https://localhost:8080/"
        },
        "id": "ItRrgjwqjVU2",
        "outputId": "5cd0c31e-2570-403e-eb9e-a17a509db0cb"
      },
      "execution_count": 9,
      "outputs": [
        {
          "output_type": "stream",
          "name": "stdout",
          "text": [
            "Kinematika\n",
            "Termodinamika\n"
          ]
        }
      ]
    },
    {
      "cell_type": "markdown",
      "source": [
        "**Fungsi range()**<br>\n",
        "Dapat mengulang satu set kode beberapa kali, Fungsi ini mengembalikan urutan angka, mulai dari 0, dan bertambah 1 (secara default), dan berakhir pada angka yang ditentukan."
      ],
      "metadata": {
        "id": "nA0MFe_jjfed"
      }
    },
    {
      "cell_type": "code",
      "source": [
        "#Contoh menggunakan fungsi range():\n",
        "for x in range(6):\n",
        "  print(x)"
      ],
      "metadata": {
        "colab": {
          "base_uri": "https://localhost:8080/"
        },
        "id": "Z4rpZ8IXmCOT",
        "outputId": "07fa6269-1d4e-4e23-b40b-d5a3caf8ead9"
      },
      "execution_count": 10,
      "outputs": [
        {
          "output_type": "stream",
          "name": "stdout",
          "text": [
            "0\n",
            "1\n",
            "2\n",
            "3\n",
            "4\n",
            "5\n"
          ]
        }
      ]
    },
    {
      "cell_type": "markdown",
      "source": [
        "Perhatikan! range(6) buaknlah nilai 0 hingga 6, melainkan 0 hingga 5. Namun dimungkinkan untuk menentukan nilai awal dengan menambahkan parameter seperti range(2, 6), yang berarti nilai 2 hingga 6 (2 hingga 5, tidak termasuk 6)."
      ],
      "metadata": {
        "id": "DSf_xoqcmSwf"
      }
    },
    {
      "cell_type": "code",
      "source": [
        "#Contoh menggunakan parameter mulai:\n",
        "for x in range(2, 6):\n",
        "  print(x)"
      ],
      "metadata": {
        "colab": {
          "base_uri": "https://localhost:8080/"
        },
        "id": "3t5UvM4rnN9J",
        "outputId": "01ab5cd7-0743-4c9e-cc38-b5810fd391da"
      },
      "execution_count": 11,
      "outputs": [
        {
          "output_type": "stream",
          "name": "stdout",
          "text": [
            "2\n",
            "3\n",
            "4\n",
            "5\n"
          ]
        }
      ]
    },
    {
      "cell_type": "markdown",
      "source": [
        "Fungsi range() default untuk menambah urutan sebesar 1, namun dimungkinkan untuk menentukan niali kenaikan dengan menambahkan paramreter ketiga seperti range(2, 30, 3)."
      ],
      "metadata": {
        "id": "YJZvfuQCnXri"
      }
    },
    {
      "cell_type": "code",
      "source": [
        "#Contoh tingkatkan urutan dengan 3 (default adalah 1):\n",
        "for x in range(2, 30, 3):\n",
        "  print(x)"
      ],
      "metadata": {
        "colab": {
          "base_uri": "https://localhost:8080/"
        },
        "id": "3kb83AwYoNcY",
        "outputId": "1e652d93-f324-4e15-ac47-64fd6e3918bf"
      },
      "execution_count": 12,
      "outputs": [
        {
          "output_type": "stream",
          "name": "stdout",
          "text": [
            "2\n",
            "5\n",
            "8\n",
            "11\n",
            "14\n",
            "17\n",
            "20\n",
            "23\n",
            "26\n",
            "29\n"
          ]
        }
      ]
    },
    {
      "cell_type": "markdown",
      "source": [
        "**Else di Perulangan For**<br>\n",
        "Menentukan blok kode yang akan dieksekusi ketika perulangan selesai."
      ],
      "metadata": {
        "id": "mIHOJOpqoiYz"
      }
    },
    {
      "cell_type": "code",
      "source": [
        "#Contoh cetak semua angka dari 0 hingga 5, dan cetak pesan saat loop telah berakhir:\n",
        "for x in range(6):\n",
        "  print(x)\n",
        "else:\n",
        "  print(\"program selesai!\")"
      ],
      "metadata": {
        "colab": {
          "base_uri": "https://localhost:8080/"
        },
        "id": "5LF15s_zo3nw",
        "outputId": "cd441037-f98b-4ed1-d5cd-a52431ae5889"
      },
      "execution_count": 13,
      "outputs": [
        {
          "output_type": "stream",
          "name": "stdout",
          "text": [
            "0\n",
            "1\n",
            "2\n",
            "3\n",
            "4\n",
            "5\n",
            "program selesai!\n"
          ]
        }
      ]
    },
    {
      "cell_type": "markdown",
      "source": [
        "**Note:** blok else <strong>TIDAK</strong> akan dieksekusi jika loop dihentikan oleh pernyataan break."
      ],
      "metadata": {
        "id": "s_6rkfUcprWa"
      }
    },
    {
      "cell_type": "code",
      "source": [
        "#Contoh putuskan loop ketika x adalah 3, dan lihat apa yang terjadi dengan blok else:\n",
        "for x in range(6):\n",
        "  if x == 3: break\n",
        "  print(x)\n",
        "else:\n",
        "  print(\"program selesai!\")"
      ],
      "metadata": {
        "colab": {
          "base_uri": "https://localhost:8080/"
        },
        "id": "AIrbr2ciqLZp",
        "outputId": "42798c76-5ad4-43c7-cffc-d3b1efffabf4"
      },
      "execution_count": 14,
      "outputs": [
        {
          "output_type": "stream",
          "name": "stdout",
          "text": [
            "0\n",
            "1\n",
            "2\n"
          ]
        }
      ]
    },
    {
      "cell_type": "markdown",
      "source": [
        "**Perulangan Bersarang (Nesting)**<br>\n",
        "Adalah Perulangan dalam perulangan. \"Perulangan dalam\" akan dieksekusi satu kali untuk setiap iterasi dari \"perulangan luar\"."
      ],
      "metadata": {
        "id": "NERCE2gsqeuT"
      }
    },
    {
      "cell_type": "code",
      "source": [
        "#Contoh cetak setiap kata sifat untuk setiap buah:\n",
        "Level = [\"Mudah\", \"Medium\", \"Sulit\"]\n",
        "Topik = [\"Mekanika\", \"Kinematika\", \"Termodinamika\"]\n",
        "for x in Level:\n",
        "  for y in Topik:\n",
        "    print(x, y)"
      ],
      "metadata": {
        "colab": {
          "base_uri": "https://localhost:8080/"
        },
        "id": "ITIwwFZqq67B",
        "outputId": "a5f5ea1e-42e6-4071-cfde-1d323569fbdf"
      },
      "execution_count": 15,
      "outputs": [
        {
          "output_type": "stream",
          "name": "stdout",
          "text": [
            "Mudah Mekanika\n",
            "Mudah Kinematika\n",
            "Mudah Termodinamika\n",
            "Medium Mekanika\n",
            "Medium Kinematika\n",
            "Medium Termodinamika\n",
            "Sulit Mekanika\n",
            "Sulit Kinematika\n",
            "Sulit Termodinamika\n"
          ]
        }
      ]
    },
    {
      "cell_type": "markdown",
      "source": [
        "**Pernyataan Pass**<br>\n",
        "Perulangan Loop tidak boleh kosong, tetapi jika karena alasan tertentu ada perulangan for tanpa konten, dimasukkan pernyataan pass untuk menghindari kesalahan."
      ],
      "metadata": {
        "id": "8teCGUILrjrw"
      }
    },
    {
      "cell_type": "code",
      "source": [
        "#Contoh:\n",
        "for x in [0, 1, 2]:\n",
        "  pass"
      ],
      "metadata": {
        "id": "ZEAhcpYLsAqh"
      },
      "execution_count": 16,
      "outputs": []
    }
  ]
}