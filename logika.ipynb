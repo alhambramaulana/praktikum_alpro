{
  "nbformat": 4,
  "nbformat_minor": 0,
  "metadata": {
    "colab": {
      "provenance": [],
      "authorship_tag": "ABX9TyP0+owGUeX5T5PXAJ5iqm6K",
      "include_colab_link": true
    },
    "kernelspec": {
      "name": "python3",
      "display_name": "Python 3"
    },
    "language_info": {
      "name": "python"
    }
  },
  "cells": [
    {
      "cell_type": "markdown",
      "metadata": {
        "id": "view-in-github",
        "colab_type": "text"
      },
      "source": [
        "<a href=\"https://colab.research.google.com/github/alhambramaulana/praktikum_alpro/blob/main/logika.ipynb\" target=\"_parent\"><img src=\"https://colab.research.google.com/assets/colab-badge.svg\" alt=\"Open In Colab\"/></a>"
      ]
    },
    {
      "cell_type": "markdown",
      "source": [
        "**Logika If dan Else**"
      ],
      "metadata": {
        "id": "NKtCd7gG0w9s"
      }
    },
    {
      "cell_type": "markdown",
      "source": [
        "**Kondisi Python dan Pernyataan If**\n",
        "\n",
        "Kondisi logis di python:\n",
        "* Sama dengan: a == b\n",
        "* Tidak sama dengan: a != b\n",
        "* Kurang dari: a < b\n",
        "* Kurang dari sama dengan: a <= b\n",
        "* Lebih besar dari: a > b\n",
        "* Lebih besar dari sama dengan: a >= b"
      ],
      "metadata": {
        "id": "1psP8PHd0vH8"
      }
    },
    {
      "cell_type": "code",
      "execution_count": null,
      "metadata": {
        "colab": {
          "base_uri": "https://localhost:8080/"
        },
        "id": "5R4kBSRJ0uLH",
        "outputId": "be38f01f-6e60-4fda-8fe5-e5e1ffc8b6c3"
      },
      "outputs": [
        {
          "output_type": "stream",
          "name": "stdout",
          "text": [
            "y lebih besar dari x\n"
          ]
        }
      ],
      "source": [
        "x = 33\n",
        "y = 200\n",
        "if y > x:\n",
        "  print(\"y lebih besar dari x\")"
      ]
    },
    {
      "cell_type": "markdown",
      "source": [
        "Elif\n"
      ],
      "metadata": {
        "id": "SEaDxj0z5asn"
      }
    },
    {
      "cell_type": "code",
      "source": [
        "a = 33\n",
        "b = 33\n",
        "if b > a:\n",
        "  print(\"b lebih besar dari a\")\n",
        "elif a == b:\n",
        "  print(\"a dan b bernilai sama\")"
      ],
      "metadata": {
        "colab": {
          "base_uri": "https://localhost:8080/"
        },
        "id": "NgE6z52l5c8q",
        "outputId": "45f59361-1565-4525-d62e-e0112373708c"
      },
      "execution_count": null,
      "outputs": [
        {
          "output_type": "stream",
          "name": "stdout",
          "text": [
            "a dan b bernilai sama\n"
          ]
        }
      ]
    },
    {
      "cell_type": "markdown",
      "source": [
        "Else"
      ],
      "metadata": {
        "id": "T3IUAjg05sPo"
      }
    },
    {
      "cell_type": "code",
      "source": [
        "a = 200\n",
        "b = 33\n",
        "if b > a:\n",
        "  print(\"b lebih besar dari a\")\n",
        "elif a == b:\n",
        "  print(\"a dan b sama besar\")\n",
        "else:\n",
        "  print(\"a lebih besar dari b\")"
      ],
      "metadata": {
        "colab": {
          "base_uri": "https://localhost:8080/"
        },
        "id": "CJfCUV0t5t42",
        "outputId": "9813ebf4-ad8d-4b7a-9785-5ef85041d5e7"
      },
      "execution_count": null,
      "outputs": [
        {
          "output_type": "stream",
          "name": "stdout",
          "text": [
            "a lebih besar dari b\n"
          ]
        }
      ]
    },
    {
      "cell_type": "markdown",
      "source": [
        "programmer juga dapat memiliki yang lain tanpa elif:"
      ],
      "metadata": {
        "id": "BA8O4dmSQli8"
      }
    },
    {
      "cell_type": "code",
      "source": [
        "a = 200\n",
        "b = 33\n",
        "if b > a:\n",
        "  print(\"b lebih besar dari a\")\n",
        "else:\n",
        "  print(\"b tidak lebih besar dari a\")"
      ],
      "metadata": {
        "colab": {
          "base_uri": "https://localhost:8080/"
        },
        "id": "231iqV1HQ808",
        "outputId": "1d6c238c-c67e-4090-e5a6-688ec0e37805"
      },
      "execution_count": 1,
      "outputs": [
        {
          "output_type": "stream",
          "name": "stdout",
          "text": [
            "b tidak lebih besar dari a\n"
          ]
        }
      ]
    },
    {
      "cell_type": "markdown",
      "source": [
        "If Pendek, jika hanya ada satu pernyataan untuk dieksekusi, dapat diletakkan di baris yang sama dengan pernyataan if."
      ],
      "metadata": {
        "id": "ZJ1Sj2lmRRto"
      }
    },
    {
      "cell_type": "code",
      "source": [
        "#Contoh satu baris pernyataan if:\n",
        "a = 200\n",
        "b = 33\n",
        "if a > b: print(\"a lebih besar dari b\")"
      ],
      "metadata": {
        "colab": {
          "base_uri": "https://localhost:8080/"
        },
        "id": "_Mb3oeukR1Dj",
        "outputId": "104be105-6a03-481b-b4e2-872c600df78b"
      },
      "execution_count": 2,
      "outputs": [
        {
          "output_type": "stream",
          "name": "stdout",
          "text": [
            "a lebih besar dari b\n"
          ]
        }
      ]
    },
    {
      "cell_type": "markdown",
      "source": [
        "If ... else pendek, jika dimiliki satu pernyataan untuk dieksekusi, satu untuk jika, dan satu untuk yang lain, dapat diletakkan semuanya di baris yang sama."
      ],
      "metadata": {
        "id": "5zhJl9ITSHSP"
      }
    },
    {
      "cell_type": "code",
      "source": [
        "#contoh satu baris pernyataan if .. else:\n",
        "a = 2\n",
        "b = 330\n",
        "print(\"A\") if a > b else print(\"B\")"
      ],
      "metadata": {
        "colab": {
          "base_uri": "https://localhost:8080/"
        },
        "id": "ONl6lx7xSkAr",
        "outputId": "697d6358-7c5a-4fbe-c5ff-f230c38851a2"
      },
      "execution_count": 3,
      "outputs": [
        {
          "output_type": "stream",
          "name": "stdout",
          "text": [
            "B\n"
          ]
        }
      ]
    },
    {
      "cell_type": "markdown",
      "source": [
        "Teknik ini dikenal dengan sebagai Operator Ternary atau ekspresi bersyarat. Dapat dimiliki beberapa pernyataan lain pada baris yang sama."
      ],
      "metadata": {
        "id": "pQv8RnmeSr_y"
      }
    },
    {
      "cell_type": "code",
      "source": [
        "#Contoh pernyataan if ... else satu baris dengan 3 kondisi\n",
        "a = 330\n",
        "b = 330\n",
        "print(\"A\") if a > b else print(\"=\") if a == b else print(\"B\")"
      ],
      "metadata": {
        "colab": {
          "base_uri": "https://localhost:8080/"
        },
        "id": "19y5V8tXVBWI",
        "outputId": "cb84634e-7d87-4589-d700-437c9c7f1008"
      },
      "execution_count": 4,
      "outputs": [
        {
          "output_type": "stream",
          "name": "stdout",
          "text": [
            "=\n"
          ]
        }
      ]
    },
    {
      "cell_type": "markdown",
      "source": [
        "**And**, digunakan untuk menggabungkan pernyataan bersyarat."
      ],
      "metadata": {
        "id": "VDBLns-eVmC8"
      }
    },
    {
      "cell_type": "code",
      "source": [
        "a = 200\n",
        "b = 33\n",
        "c = 500\n",
        "if a>b and c>a:\n",
        "  print(\"Keduanya bernilai benar\")"
      ],
      "metadata": {
        "colab": {
          "base_uri": "https://localhost:8080/"
        },
        "id": "_gfdVK0LV6B-",
        "outputId": "38dba56b-77ed-4a13-baff-b855bdf2862d"
      },
      "execution_count": 5,
      "outputs": [
        {
          "output_type": "stream",
          "name": "stdout",
          "text": [
            "Keduanya bernilai benar\n"
          ]
        }
      ]
    },
    {
      "cell_type": "markdown",
      "source": [
        "**Or**, digunakan untuk menggabungkan pernyataan bersyarat."
      ],
      "metadata": {
        "id": "estrPTy2WxxF"
      }
    },
    {
      "cell_type": "code",
      "source": [
        "a = 200\n",
        "b = 33\n",
        "c = 500\n",
        "if a>b or a>c:\n",
        "  print(\"Sedikitnya satu kondisi terpenuhi\")"
      ],
      "metadata": {
        "colab": {
          "base_uri": "https://localhost:8080/"
        },
        "id": "5hhY-Ma3XKZb",
        "outputId": "9b19c92f-355b-46a4-81a6-c8c470bc891d"
      },
      "execution_count": 6,
      "outputs": [
        {
          "output_type": "stream",
          "name": "stdout",
          "text": [
            "Sedikitnya satu kondisi terpenuhi\n"
          ]
        }
      ]
    },
    {
      "cell_type": "markdown",
      "source": [
        "**If Bersarang (Nested If)**\n",
        "Merupakan pernyataan if di dalam pernyataan if."
      ],
      "metadata": {
        "id": "LfYPoiZRXlNm"
      }
    },
    {
      "cell_type": "code",
      "source": [
        "x = 41\n",
        "if x>10:\n",
        "  print(\"Diatas sepuluh,\")\n",
        "  if x>20:\n",
        "    print(\"dan juga diatas 20!\")\n",
        "  else:\n",
        "    print(\"tapi tidak diatas 20.\")"
      ],
      "metadata": {
        "colab": {
          "base_uri": "https://localhost:8080/"
        },
        "id": "vxUMrtOqX_Yc",
        "outputId": "a34e0a37-7c37-4b8f-d848-d5f638d57ee7"
      },
      "execution_count": 7,
      "outputs": [
        {
          "output_type": "stream",
          "name": "stdout",
          "text": [
            "Diatas sepuluh,\n",
            "dan juga diatas 20!\n"
          ]
        }
      ]
    },
    {
      "cell_type": "markdown",
      "source": [
        "**Pernyataan Pass**\n",
        "Pernyataan If tidak boleh kosong, tetapi jika dikarenakan alasan tertentu memiliki pernyataan If tanpa konten, dapat dimasukkan pernyataan pass untuk menghindari kesalahan program."
      ],
      "metadata": {
        "id": "_Zc3iNiwYfZu"
      }
    },
    {
      "cell_type": "code",
      "source": [
        "a = 33\n",
        "b = 200\n",
        "if b>a:\n",
        "  pass"
      ],
      "metadata": {
        "id": "u1QQjTmwZSvu"
      },
      "execution_count": 8,
      "outputs": []
    }
  ]
}